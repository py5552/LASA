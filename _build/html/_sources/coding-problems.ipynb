{
 "cells": [
  {
   "cell_type": "markdown",
   "id": "d8efcefb",
   "metadata": {},
   "source": [
    "# Coding Problems\n",
    "These coding problems are supposed to help you. Your **Goal** is to **fix** the code. Each problem will have some *`errors`* in it. You should *copy* and *paste* the code into your ***own editor*** and try to fix it. Each problem will relate to a video. Have Fun!\n",
    "\n",
    "## If, elif, and else statments\n",
    "\n",
    "This code is supposed to print yes is its A, no if its B, and maybe if its neither"
   ]
  },
  {
   "cell_type": "code",
   "execution_count": 1,
   "id": "131d5248",
   "metadata": {},
   "outputs": [
    {
     "ename": "SyntaxError",
     "evalue": "invalid syntax (1560054318.py, line 6)",
     "output_type": "error",
     "traceback": [
      "\u001b[1;36m  File \u001b[1;32m\"C:\\Users\\piete\\AppData\\Local\\Temp\\ipykernel_836\\1560054318.py\"\u001b[1;36m, line \u001b[1;32m6\u001b[0m\n\u001b[1;33m    else:\u001b[0m\n\u001b[1;37m       ^\u001b[0m\n\u001b[1;31mSyntaxError\u001b[0m\u001b[1;31m:\u001b[0m invalid syntax\n"
     ]
    }
   ],
   "source": [
    "def yes_or_no(x):\n",
    "  if x == \"A\":\n",
    "    return \"yes\"\n",
    "  else:\n",
    "    return \"no\"\n",
    "  else:\n",
    "    return \"maybe\""
   ]
  },
  {
   "cell_type": "markdown",
   "id": "7abeab9e",
   "metadata": {},
   "source": [
    "```{tip}\n",
    "Read the error message\n",
    "```\n",
    "\n",
    "## Strings"
   ]
  },
  {
   "cell_type": "code",
   "execution_count": null,
   "id": "bb68c4d9",
   "metadata": {},
   "outputs": [],
   "source": [
    "x = 10\n",
    "print \"I like ducks\n",
    "I really like ducks\n",
    "I really want \" + x + \" ducks\""
   ]
  },
  {
   "cell_type": "markdown",
   "id": "c8c31e77",
   "metadata": {},
   "source": [
    "```{important}\n",
    "There can be than one error\n",
    "```"
   ]
  }
 ],
 "metadata": {
  "jupytext": {
   "cell_metadata_filter": "-all",
   "formats": "md:myst",
   "text_representation": {
    "extension": ".md",
    "format_name": "myst",
    "format_version": 0.13,
    "jupytext_version": "1.11.5"
   }
  },
  "kernelspec": {
   "display_name": "Python 3",
   "language": "python",
   "name": "python3"
  },
  "language_info": {
   "codemirror_mode": {
    "name": "ipython",
    "version": 3
   },
   "file_extension": ".py",
   "mimetype": "text/x-python",
   "name": "python",
   "nbconvert_exporter": "python",
   "pygments_lexer": "ipython3",
   "version": "3.7.9"
  },
  "source_map": [
   14,
   23,
   31,
   37,
   42
  ]
 },
 "nbformat": 4,
 "nbformat_minor": 5
}