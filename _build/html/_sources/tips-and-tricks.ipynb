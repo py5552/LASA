{
 "cells": [
  {
   "cell_type": "markdown",
   "metadata": {},
   "source": [
    "# Coding tips and tricks!\n",
    "\n",
    "Here are some `tips and trick` for coding in python\n",
    "\n",
    "## +=, -=\n",
    "\n",
    "This trick will save you a lot of time(x is a int or float varibale, y is a also an int or float)\n",
    "\n",
    "**Instead of writing** x = x + y or x = x - y\n",
    "\n",
    "`Write` x += y or x -= y\n",
    "\n",
    "\n",
    "\n",
    "## How it works\n",
    "\n",
    "I will have a quick section explaining what the trick is and then some code!\n",
    "\n",
    "## What level?\n",
    "\n",
    "This will have all levels!"
   ]
  },
  {
   "cell_type": "markdown",
   "metadata": {},
   "source": [
    "`Functions!`\n",
    "\n",
    "These allow you to define certain code and call it using the function. You use **def _ ()** to call the function. _ is the name of the function. You can use **return** to return a value back to the caller. Functions often have **parameters** which are used when a function is called.\n",
    "The structure:"
   ]
  },
  {
   "cell_type": "code",
   "execution_count": null,
   "metadata": {},
   "outputs": [],
   "source": [
    "def name_of_function(parameter1, parameter2):\n",
    "    #Code goes here\n",
    "    return parameter1 + parameter2\n",
    "    #You can return anything you like\n",
    "name_of_function(1,5)"
   ]
  },
  {
   "cell_type": "markdown",
   "metadata": {},
   "source": [
    "`Libraries`\n",
    "\n",
    "These are collections of **pre-written code** which you can use to make certain tasks easier. For example I can use **NumPy** for more complex math. To download a library you either have to use **pip**(on windows) or **anaconda**(on mac). To use pip got to **cmd**(comand line) run it as admin and type in **pip install (the name of the library)**"
   ]
  },
  {
   "cell_type": "code",
   "execution_count": null,
   "metadata": {},
   "outputs": [],
   "source": [
    "from numpy import *   #(this means import evething from numpy. Put at top of your code)"
   ]
  },
  {
   "cell_type": "markdown",
   "metadata": {},
   "source": [
    "There are a lot more data libaries. For more information about this, see [The Top 10 Python Libraries](https://www.interviewbit.com/blog/python-libraries/)"
   ]
  }
 ],
 "metadata": {
  "kernelspec": {
   "display_name": "Python 3.10.5 64-bit",
   "language": "python",
   "name": "python3"
  },
  "language_info": {
   "codemirror_mode": {
    "name": "ipython",
    "version": 3
   },
   "file_extension": ".py",
   "mimetype": "text/x-python",
   "name": "python",
   "nbconvert_exporter": "python",
   "pygments_lexer": "ipython3",
   "version": "3.10.5"
  },
  "vscode": {
   "interpreter": {
    "hash": "b53244734cd41b8e5b45a3f914db1f76eb38f01be20037e2c2f5b9b937b3c78a"
   }
  },
  "widgets": {
   "application/vnd.jupyter.widget-state+json": {
    "state": {},
    "version_major": 2,
    "version_minor": 0
   }
  }
 },
 "nbformat": 4,
 "nbformat_minor": 4
}
